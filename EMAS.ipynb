{
 "cells": [
  {
   "cell_type": "code",
   "execution_count": 25,
   "metadata": {},
   "outputs": [
    {
     "name": "stdout",
     "output_type": "stream",
     "text": [
      "[*********************100%***********************]  1 of 1 completed\n",
      "Alertas generadas:\n",
      "Ganancia total: 0\n"
     ]
    }
   ],
   "source": [
    "import yfinance as yf\n",
    "import talib\n",
    "import pandas as pd\n",
    "import numpy as np\n",
    "import pandas_datareader as pdr\n",
    "import matplotlib.pyplot as plt\n",
    "import datetime\n",
    "\n",
    "# Descargar datos de precios de Bitcoin (BTC-USD) de Yahoo Finance\n",
    "btc = yf.download('BTC-USD',period=\"moy\", interval='5m')\n",
    "\n",
    "# Calcular el promedio móvil de n períodos de alta y baja\n",
    "avg_high = talib.SMA(btc['High'].values, timeperiod=3)\n",
    "avg_low = talib.SMA(btc['Low'].values, timeperiod=3)\n",
    "\n",
    "# Calcular el CE utilizando la fórmula\n",
    "ce = btc['Close'].shift(1) - (avg_high + avg_low) / 2\n",
    "\n",
    "# Calcular el RSI utilizando la biblioteca Ta-Lib\n",
    "rsi = talib.RSI(btc['Close'].values, timeperiod=14)\n",
    "\n",
    "# Calcular medias móviles exponenciales de 8 y 200 períodos\n",
    "ema_8 = talib.EMA(btc['Close'].values, timeperiod=8)\n",
    "ema_200 = talib.EMA(btc['Close'].values, timeperiod=200)\n",
    "\n",
    "# Generar una alerta cuando el precio está en un punto de compra o venta, hay una divergencia en el RSI y cruce de medias móviles\n",
    "alerts = []\n",
    "for i, val in enumerate(ce):\n",
    "    if val > 0 and btc['Close'][i] > btc['Close'][i-1] and rsi[i] < rsi[i-1] and ema_8[i] > ema_200[i]:\n",
    "        alerts.append((i, \"Compra\", btc['Close'][i], rsi[i]))\n",
    "    elif val < 0 and btc['Close'][i] < btc['Close'][i-1] and rsi[i] > rsi[i-1] and ema_8[i] < ema_200[i]:\n",
    "        alerts.append((i, \"Venta\", btc['Close'][i], rsi[i]))\n",
    "\n",
    "# Calcular la ganancia total\n",
    "profit = 0\n",
    "for i, (period, type, price, rsi) in enumerate(alerts):\n",
    "    if type == \"Compra\":\n",
    "        profit += price\n",
    "    elif type == \"Venta\":\n",
    "        profit -= price\n",
    "\n",
    "# Imprimir las alertas generadas\n",
    "print(\"Alertas generadas:\")\n",
    "for i, (period, type, price, rsi) in enumerate(alerts):\n",
    "    print(f\"Período {period}: {type} en precio {price}, RSI {rsi}\")\n",
    "\n",
    "# Imprimir la ganancia total\n",
    "print(f\"Ganancia total: {profit}\")"
   ]
  }
 ],
 "metadata": {
  "kernelspec": {
   "display_name": "Python 3",
   "language": "python",
   "name": "python3"
  },
  "language_info": {
   "codemirror_mode": {
    "name": "ipython",
    "version": 3
   },
   "file_extension": ".py",
   "mimetype": "text/x-python",
   "name": "python",
   "nbconvert_exporter": "python",
   "pygments_lexer": "ipython3",
   "version": "3.10.9"
  },
  "orig_nbformat": 4,
  "vscode": {
   "interpreter": {
    "hash": "8ce50494ea7cc76a9288e4c2e91b4cbdca1654a364e446e917d12e609570f27d"
   }
  }
 },
 "nbformat": 4,
 "nbformat_minor": 2
}
